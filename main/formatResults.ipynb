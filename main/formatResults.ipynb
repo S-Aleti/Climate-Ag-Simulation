{
 "cells": [
  {
   "cell_type": "code",
   "execution_count": 4,
   "metadata": {},
   "outputs": [],
   "source": [
    "import pandas as pd\n",
    "import numpy as np"
   ]
  },
  {
   "cell_type": "markdown",
   "metadata": {},
   "source": [
    "## Import data"
   ]
  },
  {
   "cell_type": "code",
   "execution_count": 5,
   "metadata": {},
   "outputs": [],
   "source": [
    "# Results folder\n",
    "folder = '../results/'\n",
    "data_mm_df = pd.read_csv(folder + 'csv/results_CLM5_mm.csv')\n",
    "data_pe_df = pd.read_csv(folder + 'csv/results_CLM5_pe.csv')"
   ]
  },
  {
   "cell_type": "markdown",
   "metadata": {},
   "source": [
    "## Merge Data"
   ]
  },
  {
   "cell_type": "code",
   "execution_count": 6,
   "metadata": {},
   "outputs": [],
   "source": [
    "# Combine multimarket and partial eq results\n",
    "data_mm_df['Type'] = 'Multimarket'\n",
    "data_pe_df['Type'] = 'Partial Equilibrium'\n",
    "data_merged_df     = pd.concat([data_mm_df, data_pe_df])"
   ]
  },
  {
   "cell_type": "code",
   "execution_count": 7,
   "metadata": {},
   "outputs": [],
   "source": [
    "# Subset countries\n",
    "country_subset = ['India', 'United States', 'China', 'Brazil']\n",
    "data_merged_df = data_merged_df.query('Country in @country_subset')\n",
    "\n",
    "# Fix crop labels\n",
    "data_merged_df['Crop'] = data_merged_df['Crop'].apply(lambda x: x.capitalize())"
   ]
  },
  {
   "cell_type": "code",
   "execution_count": 65,
   "metadata": {},
   "outputs": [],
   "source": [
    "# Aggregate data\n",
    "data_agg_df = data_merged_df.groupby(['Country', 'Type', 'Year']).sum().reset_index()\n",
    "\n",
    "# Recompute changes in surplus\n",
    "data_agg_df['Percent_Change_in_Consumer_Surplus'] = (data_agg_df['Change_in_Consumer_Surplus'] / \n",
    "                                                     data_agg_df['Consumer_Surplus_Original'])\n",
    "data_agg_df['Percent_Change_in_Producer_Surplus'] = (data_agg_df['Change_in_Producer_Surplus'] / \n",
    "                                                     data_agg_df['Producer_Surplus_Original'])\n",
    "data_agg_df['Percent_Change_in_Total_Surplus']    = ((data_agg_df['Change_in_Producer_Surplus'] \n",
    "                                                     + data_agg_df['Change_in_Consumer_Surplus']) / \n",
    "                                                    (data_agg_df['Producer_Surplus_Original']\n",
    "                                                     + data_agg_df['Consumer_Surplus_Original']))"
   ]
  },
  {
   "cell_type": "markdown",
   "metadata": {},
   "source": [
    "## Generate Tables"
   ]
  },
  {
   "cell_type": "code",
   "execution_count": 83,
   "metadata": {},
   "outputs": [],
   "source": [
    "output_file = '../results/xlsx/results_CLM5_formatted.xlsx'\n",
    "writer = pd.ExcelWriter(output_file, engine='xlsxwriter')"
   ]
  },
  {
   "cell_type": "code",
   "execution_count": 84,
   "metadata": {
    "scrolled": true
   },
   "outputs": [],
   "source": [
    "# Producer and Consumer Surplus Changes\n",
    "for country in data_merged_df['Country']:\n",
    "    \n",
    "    pivot_table_df = (data_agg_df.query('Country == @country')\n",
    "                     .pivot_table(index = 'Year', columns = ['Type'], \n",
    "                                  values = ['Percent_Change_in_Consumer_Surplus', 'Percent_Change_in_Producer_Surplus', \n",
    "                                  'Percent_Change_in_Total_Surplus']))\n",
    "    \n",
    "    pivot_table_df = pivot_table_df.applymap(lambda x: '{0:.2f}%'.format(x*100))\n",
    "    \n",
    "    pivot_table_df.to_excel(writer, sheet_name = 'All_' + country)"
   ]
  },
  {
   "cell_type": "code",
   "execution_count": 85,
   "metadata": {},
   "outputs": [],
   "source": [
    "# Price and Quantity Changes\n",
    "for crop in data_merged_df['Crop'].unique():\n",
    "    for col in ['Percent_Price_Change', 'Percent_Quantity_Change']:\n",
    "        \n",
    "        pivot_table_df = (data_merged_df.query('Crop == @crop')\n",
    "                          .pivot_table(index = 'Year', columns = ['Country', 'Type'], values = col)\n",
    "                         )\n",
    "        pivot_table_df = pivot_table_df.applymap(lambda x: '{0:.2f}%'.format(x*100))\n",
    "        \n",
    "        pivot_table_df.to_excel(writer, sheet_name = crop + '_' + col)"
   ]
  },
  {
   "cell_type": "code",
   "execution_count": 86,
   "metadata": {},
   "outputs": [],
   "source": [
    "writer.close()"
   ]
  },
  {
   "cell_type": "code",
   "execution_count": null,
   "metadata": {},
   "outputs": [],
   "source": []
  }
 ],
 "metadata": {
  "kernelspec": {
   "display_name": "Python 3",
   "language": "python",
   "name": "python3"
  },
  "language_info": {
   "codemirror_mode": {
    "name": "ipython",
    "version": 3
   },
   "file_extension": ".py",
   "mimetype": "text/x-python",
   "name": "python",
   "nbconvert_exporter": "python",
   "pygments_lexer": "ipython3",
   "version": "3.5.2"
  },
  "toc": {
   "base_numbering": 1,
   "nav_menu": {},
   "number_sections": true,
   "sideBar": true,
   "skip_h1_title": false,
   "title_cell": "Table of Contents",
   "title_sidebar": "Contents",
   "toc_cell": false,
   "toc_position": {},
   "toc_section_display": true,
   "toc_window_display": true
  }
 },
 "nbformat": 4,
 "nbformat_minor": 2
}
